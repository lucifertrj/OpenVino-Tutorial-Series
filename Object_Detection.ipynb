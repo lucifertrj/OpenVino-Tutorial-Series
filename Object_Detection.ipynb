{
  "cells": [
    {
      "cell_type": "code",
      "execution_count": null,
      "metadata": {
        "id": "_jtIqh4RxlZe"
      },
      "outputs": [],
      "source": [
        "!pip install \"ultralytics==8.0.43\"\n",
        "!pip install openvino"
      ]
    },
    {
      "cell_type": "code",
      "execution_count": null,
      "metadata": {
        "id": "F9Dsh6kCxwo0"
      },
      "outputs": [],
      "source": [
        "from typing import Tuple, Dict\n",
        "import cv2\n",
        "import numpy as np\n",
        "from PIL import Image\n",
        "import random\n",
        "from ultralytics.yolo.utils.plotting import colors\n",
        "\n",
        "\n",
        "def plot_one_box(box:np.ndarray, img:np.ndarray, color:Tuple[int, int, int] = None, mask:np.ndarray = None, label:str = None, line_thickness:int = 5):\n",
        "    # Plots one bounding box on image img\n",
        "    tl = line_thickness or round(0.002 * (img.shape[0] + img.shape[1]) / 2) + 1  # line/font thickness\n",
        "    color = color or [random.randint(0, 255) for _ in range(3)]\n",
        "    c1, c2 = (int(box[0]), int(box[1])), (int(box[2]), int(box[3]))\n",
        "    cv2.rectangle(img, c1, c2, color, thickness=tl, lineType=cv2.LINE_AA)\n",
        "    if label:\n",
        "        tf = max(tl - 1, 1)  # font thickness\n",
        "        t_size = cv2.getTextSize(label, 0, fontScale=tl / 3, thickness=tf)[0]\n",
        "        c2 = c1[0] + t_size[0], c1[1] - t_size[1] - 3\n",
        "        cv2.rectangle(img, c1, c2, color, -1, cv2.LINE_AA)  # filled\n",
        "        cv2.putText(img, label, (c1[0], c1[1] - 2), 0, tl / 3, [225, 255, 255], thickness=tf, lineType=cv2.LINE_AA)\n",
        "    if mask is not None:\n",
        "        image_with_mask = img.copy()\n",
        "        mask\n",
        "        cv2.fillPoly(image_with_mask, pts=[mask.astype(int)], color=color)\n",
        "        img = cv2.addWeighted(img, 0.5, image_with_mask, 0.5, 1)\n",
        "    return img\n",
        "\n",
        "def draw_results(results:Dict, source_image:np.ndarray, label_map:Dict):\n",
        "    boxes = results[\"det\"]\n",
        "    masks = results.get(\"segment\")\n",
        "    h, w = source_image.shape[:2]\n",
        "    for idx, (*xyxy, conf, lbl) in enumerate(boxes):\n",
        "        label = f'{label_map[int(lbl)]} {conf:.2f}'\n",
        "        mask = masks[idx] if masks is not None else None\n",
        "        source_image = plot_one_box(xyxy, source_image, mask=mask, label=label, color=colors(int(lbl)), line_thickness=1)\n",
        "    return source_image"
      ]
    },
    {
      "cell_type": "code",
      "execution_count": null,
      "metadata": {
        "id": "4Zg28DSmzNNB"
      },
      "outputs": [],
      "source": [
        "IMAGE_PATH = \"catdog.jpg\""
      ]
    },
    {
      "cell_type": "code",
      "execution_count": null,
      "metadata": {
        "colab": {
          "background_save": true
        },
        "id": "zWcEUT4ex4jC"
      },
      "outputs": [],
      "source": [
        "from ultralytics import YOLO\n",
        "\n",
        "DET_MODEL_NAME = \"yolov8n\"\n",
        "\n",
        "det_model = YOLO(f'{DET_MODEL_NAME}.pt')\n",
        "label_map = det_model.model.names\n",
        "\n",
        "res = det_model(IMAGE_PATH)\n",
        "Image.fromarray(res[0].plot()[:, :, ::-1])"
      ]
    }
  ],
  "metadata": {
    "accelerator": "GPU",
    "colab": {
      "provenance": []
    },
    "gpuClass": "standard",
    "kernelspec": {
      "display_name": "Python 3",
      "name": "python3"
    },
    "language_info": {
      "name": "python"
    }
  },
  "nbformat": 4,
  "nbformat_minor": 0
}